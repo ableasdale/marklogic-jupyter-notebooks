{
 "cells": [
  {
   "cell_type": "code",
   "execution_count": 2,
   "metadata": {},
   "outputs": [
    {
     "name": "stdout",
     "output_type": "stream",
     "text": [
      "········\n",
      "{'Server': 'MarkLogic', 'WWW-Authenticate': 'Digest realm=\"public\", qop=\"auth\", nonce=\"37b211ee3b1998:iVfosR+kcR0GuBz0P1GSlg==\", opaque=\"5a9c71b18f6ce5b4\"', 'Content-Type': 'text/html; charset=utf-8', 'Content-Length': '209', 'Connection': 'Keep-Alive', 'Keep-Alive': 'timeout=5'}\n",
      "<Response [401]>\n"
     ]
    }
   ],
   "source": [
    "import requests\n",
    "from getpass import getpass\n",
    "\n",
    "# By using a context manager, you can ensure the resources used by\n",
    "# the session will be released after use\n",
    "with requests.Session() as session:\n",
    "    session.auth = ('q', getpass())\n",
    "\n",
    "    # Instead of requests.get(), you'll use session.get()\n",
    "    response = session.get('http://localhost:8000/LATEST/search?q=dog')\n",
    "    print(response.headers)\n",
    "    print(response)"
   ]
  },
  {
   "cell_type": "code",
   "execution_count": 3,
   "metadata": {},
   "outputs": [
    {
     "name": "stdout",
     "output_type": "stream",
     "text": [
      "········\n",
      "{'Server': 'MarkLogic', 'WWW-Authenticate': 'Digest realm=\"public\", qop=\"auth\", nonce=\"37b211f453583d:fOtrB8VcJIoELRJ8DL0Fng==\", opaque=\"d3a29bfb76e57796\"', 'Content-Type': 'text/html; charset=utf-8', 'Content-Length': '209', 'Connection': 'Keep-Alive', 'Keep-Alive': 'timeout=5'}\n",
      "<Response [401]>\n"
     ]
    }
   ],
   "source": [
    "import requests\n",
    "from getpass import getpass\n",
    "\n",
    "# By using a context manager, you can ensure the resources used by\n",
    "# the session will be released after use\n",
    "with requests.Session() as session:\n",
    "    session.auth = ('q', getpass())\n",
    "\n",
    "    # Instead of requests.get(), you'll use session.get()\n",
    "    response = session.get('http://localhost:8000/LATEST/search?q=dog')\n",
    "    print(response.headers)\n",
    "    print(response)"
   ]
  },
  {
   "cell_type": "code",
   "execution_count": 4,
   "metadata": {},
   "outputs": [
    {
     "name": "stdout",
     "output_type": "stream",
     "text": [
      "········\n"
     ]
    }
   ],
   "source": [
    "import requests\n",
    "from requests.auth import HTTPDigestAuth\n",
    "from getpass import getpass\n",
    "\n",
    "url = 'http://localhost:8000/LATEST/search?q=dog'\n",
    "res = requests.get(url, auth=HTTPDigestAuth('q', getpass()))"
   ]
  },
  {
   "cell_type": "code",
   "execution_count": 5,
   "metadata": {},
   "outputs": [
    {
     "name": "stdout",
     "output_type": "stream",
     "text": [
      "········\n"
     ]
    }
   ],
   "source": [
    "import requests\n",
    "from requests.auth import HTTPDigestAuth\n",
    "from getpass import getpass\n",
    "\n",
    "url = 'http://localhost:8000/LATEST/search?q=dog'\n",
    "res = requests.get(url, auth=HTTPDigestAuth('q', getpass()))"
   ]
  },
  {
   "cell_type": "code",
   "execution_count": 6,
   "metadata": {},
   "outputs": [
    {
     "data": {
      "text/plain": [
       "True"
      ]
     },
     "execution_count": 6,
     "metadata": {},
     "output_type": "execute_result"
    }
   ],
   "source": [
    "res.ok"
   ]
  },
  {
   "cell_type": "code",
   "execution_count": 7,
   "metadata": {},
   "outputs": [
    {
     "data": {
      "text/plain": [
       "{'Content-type': 'application/xml; charset=utf-8', 'ML-Effective-Timestamp': '15676914602681041', 'Server': 'MarkLogic', 'Content-Length': '362', 'Connection': 'Keep-Alive', 'Keep-Alive': 'timeout=5'}"
      ]
     },
     "execution_count": 7,
     "metadata": {},
     "output_type": "execute_result"
    }
   ],
   "source": [
    "res.headers"
   ]
  },
  {
   "cell_type": "code",
   "execution_count": 8,
   "metadata": {},
   "outputs": [
    {
     "data": {
      "text/plain": [
       "'<search:response snippet-format=\"snippet\" total=\"0\" start=\"1\" page-length=\"10\" xmlns:search=\"http://marklogic.com/appservices/search\">\\n  <search:qtext>dog</search:qtext>\\n  <search:metrics>\\n    <search:query-resolution-time>PT0.0029109S</search:query-resolution-time>\\n    <search:total-time>PT0.0030642S</search:total-time>\\n  </search:metrics>\\n</search:response>\\n'"
      ]
     },
     "execution_count": 8,
     "metadata": {},
     "output_type": "execute_result"
    }
   ],
   "source": [
    "res.text"
   ]
  },
  {
   "cell_type": "code",
   "execution_count": 9,
   "metadata": {},
   "outputs": [
    {
     "name": "stdout",
     "output_type": "stream",
     "text": [
      "········\n",
      "{'host-default-list': {'meta': {'uri': '/manage/v2/hosts', 'current-time': '2019-09-05T15:01:49.3524851+01:00', 'elapsed-time': {'units': 'sec', 'value': 0.5515308}}, 'list-items': {'list-count': {'units': 'quantity', 'value': 1}, 'list-item': [{'uriref': '/manage/v2/hosts/desktop-i85afca', 'roleref': 'bootstrap', 'idref': '12028285711088554334', 'nameref': 'desktop-i85afca'}]}, 'related-views': {'related-view': [{'view-type': 'root', 'view-name': 'default', 'view-uri': '/manage/v2'}, {'view-type': 'list', 'view-name': 'metrics', 'view-uri': '/manage/v2/hosts?view=metrics'}, {'view-type': 'list', 'view-name': 'properties-schema', 'view-uri': '/manage/v2/hosts?view=properties-schema'}, {'view-type': 'list', 'view-name': 'schema', 'view-uri': '/manage/v2/hosts?view=schema'}, {'view-type': 'list', 'view-name': 'status', 'view-uri': '/manage/v2/hosts?view=status'}, {'view-type': 'list', 'view-name': 'health', 'view-uri': '/manage/v2?view=health&health-resource=host'}, {'view-type': 'list', 'view-name': 'docs', 'view-uri': 'http://docs.marklogic.com/REST/management/hosts'}]}}}\n"
     ]
    }
   ],
   "source": [
    "import requests\n",
    "from requests.auth import HTTPDigestAuth\n",
    "from getpass import getpass\n",
    "\n",
    "resp = requests.get(\"http://localhost:8002/manage/v2/hosts?format=json\", auth=HTTPDigestAuth('q', getpass()))\n",
    "print(resp.json())"
   ]
  },
  {
   "cell_type": "code",
   "execution_count": null,
   "metadata": {},
   "outputs": [],
   "source": [
    "resp.json()"
   ]
  },
  {
   "cell_type": "code",
   "execution_count": 10,
   "metadata": {},
   "outputs": [
    {
     "data": {
      "text/plain": [
       "{'uri': '/manage/v2/hosts',\n",
       " 'current-time': '2019-09-05T15:01:49.3524851+01:00',\n",
       " 'elapsed-time': {'units': 'sec', 'value': 0.5515308}}"
      ]
     },
     "execution_count": 10,
     "metadata": {},
     "output_type": "execute_result"
    }
   ],
   "source": [
    "resp.json()['host-default-list']['meta']"
   ]
  },
  {
   "cell_type": "code",
   "execution_count": null,
   "metadata": {},
   "outputs": [],
   "source": [
    "import requests\n",
    "from requests.auth import HTTPDigestAuth\n",
    "from getpass import getpass\n",
    "\n",
    "resp = requests.post(\"http://localhost:8002/v1/eval?data=1+1\", auth=HTTPDigestAuth('q', getpass()))\n",
    "print(resp)\n"
   ]
  },
  {
   "cell_type": "code",
   "execution_count": 21,
   "metadata": {},
   "outputs": [
    {
     "name": "stdout",
     "output_type": "stream",
     "text": [
      "········\n",
      "<Response [200]>\n",
      "{'Server': 'MarkLogic 9.0-8', 'Set-Cookie': 'TxnID=null; path=/', 'Content-Type': 'multipart/mixed; boundary=6e7870e7417511a7', 'Content-Length': '97', 'Connection': 'Keep-Alive', 'Keep-Alive': 'timeout=5'}\n",
      "\n",
      "--6e7870e7417511a7\n",
      "Content-Type: text/plain\n",
      "X-Primitive: integer\n",
      "\n",
      "2\n",
      "--6e7870e7417511a7--\n",
      "\n"
     ]
    }
   ],
   "source": [
    "import requests\n",
    "from requests.auth import HTTPDigestAuth\n",
    "from getpass import getpass\n",
    "# curl --anyauth --user admin:admin -i -X POST -H \"Content-type:application/x-www-form-urlencoded\" --data 'xquery=1;' 'http://node1:8000/v1/eval'\n",
    "\n",
    "headers = {'Content-type': 'application/x-www-form-urlencoded'}\n",
    "payload = {'xquery': '1+1'}\n",
    "resp = requests.post(\"http://localhost:8002/v1/eval\", headers=headers, data=payload, auth=HTTPDigestAuth('q', getpass()))\n",
    "print(resp)\n",
    "print(resp.headers)\n",
    "print(resp.text)"
   ]
  },
  {
   "cell_type": "code",
   "execution_count": 25,
   "metadata": {},
   "outputs": [
    {
     "name": "stdout",
     "output_type": "stream",
     "text": [
      "········\n",
      "2\n"
     ]
    }
   ],
   "source": [
    "import requests\n",
    "from requests.auth import HTTPDigestAuth\n",
    "from getpass import getpass\n",
    "# TO install this we do: \n",
    "# conda install -c conda-forge requests-toolbelt\n",
    "from requests_toolbelt.multipart import decoder\n",
    "\n",
    "headers = {'Content-type': 'application/x-www-form-urlencoded'}\n",
    "payload = {'xquery': '1+1'}\n",
    "testEnrollResponse = requests.post(\"http://localhost:8002/v1/eval\", headers=headers, data=payload, auth=HTTPDigestAuth('q', getpass()))\n",
    "multipart_data = decoder.MultipartDecoder.from_response(testEnrollResponse)\n",
    "\n",
    "for part in multipart_data.parts:\n",
    "    print(part.text)  # Alternatively, part.text if you want unicode\n",
    "# TO debug: print(part.headers)"
   ]
  },
  {
   "cell_type": "code",
   "execution_count": null,
   "metadata": {},
   "outputs": [],
   "source": []
  }
 ],
 "metadata": {
  "kernelspec": {
   "display_name": "Python 3",
   "language": "python",
   "name": "python3"
  },
  "language_info": {
   "codemirror_mode": {
    "name": "ipython",
    "version": 3
   },
   "file_extension": ".py",
   "mimetype": "text/x-python",
   "name": "python",
   "nbconvert_exporter": "python",
   "pygments_lexer": "ipython3",
   "version": "3.7.3"
  }
 },
 "nbformat": 4,
 "nbformat_minor": 2
}
