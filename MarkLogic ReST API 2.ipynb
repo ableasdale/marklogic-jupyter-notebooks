{
 "cells": [
  {
   "cell_type": "markdown",
   "metadata": {},
   "source": [
    "## Jupyter Example Workbook - Calling the MarkLogic ReST API\n",
    "\n",
    "Interactively calling MarkLogic Server through it's ReST APIs from within the context of a Jupyter notebook\n",
    "\n",
    "### Search via ReST: attempt to connect using basic auth"
   ]
  },
  {
   "cell_type": "code",
   "execution_count": null,
   "metadata": {},
   "outputs": [],
   "source": [
    "import requests\n",
    "from getpass import getpass\n",
    "\n",
    "# Example using Basic Auth that fails (as the endpoint uses digest auth)\n",
    "with requests.Session() as session:\n",
    "    session.auth = ('admin', getpass())\n",
    "\n",
    "    response = session.get('http://localhost:8000/LATEST/search?q=dog')\n",
    "    print(response.headers)\n",
    "    print(response)\n",
    "    print(response.status_code)"
   ]
  },
  {
   "cell_type": "markdown",
   "metadata": {},
   "source": [
    "### Search via ReST: attempt to connect using Digest auth"
   ]
  },
  {
   "cell_type": "code",
   "execution_count": null,
   "metadata": {},
   "outputs": [],
   "source": [
    "import requests\n",
    "from requests.auth import HTTPDigestAuth\n",
    "from getpass import getpass\n",
    "\n",
    "url = 'http://localhost:8000/LATEST/search?q=dog'\n",
    "res = requests.get(url, auth=HTTPDigestAuth('admin', getpass()))\n",
    "print(res.status_code)"
   ]
  },
  {
   "cell_type": "code",
   "execution_count": null,
   "metadata": {},
   "outputs": [],
   "source": [
    "res.ok"
   ]
  },
  {
   "cell_type": "code",
   "execution_count": null,
   "metadata": {},
   "outputs": [],
   "source": [
    "res.headers"
   ]
  },
  {
   "cell_type": "code",
   "execution_count": null,
   "metadata": {},
   "outputs": [],
   "source": [
    "res.text"
   ]
  },
  {
   "cell_type": "markdown",
   "metadata": {},
   "source": [
    "### Manage via ReST: using the /manage/v2/hosts endpoint (JSON)"
   ]
  },
  {
   "cell_type": "code",
   "execution_count": null,
   "metadata": {},
   "outputs": [],
   "source": [
    "import requests\n",
    "from requests.auth import HTTPDigestAuth\n",
    "from getpass import getpass\n",
    "\n",
    "resp = requests.get(\"http://localhost:8002/manage/v2/hosts?format=json\", auth=HTTPDigestAuth('admin', getpass()))\n",
    "print(resp.json())"
   ]
  },
  {
   "cell_type": "code",
   "execution_count": null,
   "metadata": {},
   "outputs": [],
   "source": [
    "resp.json()"
   ]
  },
  {
   "cell_type": "code",
   "execution_count": null,
   "metadata": {},
   "outputs": [],
   "source": [
    "resp.json()['host-default-list']['meta']"
   ]
  },
  {
   "cell_type": "markdown",
   "metadata": {},
   "source": [
    "### Eval via ReST: Using the /v1/eval endpoint"
   ]
  },
  {
   "cell_type": "code",
   "execution_count": null,
   "metadata": {},
   "outputs": [],
   "source": [
    "import requests\n",
    "from requests.auth import HTTPDigestAuth\n",
    "from getpass import getpass\n",
    "\n",
    "# This example fails with an HTTP 400 while I was figuring out how to create the request properly\n",
    "# Note that the example below is invalid.\n",
    "\n",
    "resp = requests.post(\"http://localhost:8002/v1/eval?data=1+1\", auth=HTTPDigestAuth('admin', getpass()))\n",
    "print(resp.status_code)\n"
   ]
  },
  {
   "cell_type": "code",
   "execution_count": null,
   "metadata": {},
   "outputs": [],
   "source": [
    "import requests\n",
    "from requests.auth import HTTPDigestAuth\n",
    "from getpass import getpass\n",
    "# curl --anyauth --user admin:admin -i -X POST -H \"Content-type:application/x-www-form-urlencoded\" --data 'xquery=1;' 'http://node1:8000/v1/eval'\n",
    "\n",
    "headers = {'Content-type': 'application/x-www-form-urlencoded'}\n",
    "payload = {'xquery': '1+1'}\n",
    "resp = requests.post(\"http://localhost:8002/v1/eval\", headers=headers, data=payload, auth=HTTPDigestAuth('admin', getpass()))\n",
    "print(resp)\n",
    "print(resp.headers)\n",
    "print(resp.text)"
   ]
  },
  {
   "cell_type": "code",
   "execution_count": null,
   "metadata": {},
   "outputs": [],
   "source": [
    "import requests\n",
    "from requests.auth import HTTPDigestAuth\n",
    "from getpass import getpass\n",
    "\n",
    "# TO install this we do: \n",
    "# conda install -c conda-forge requests-toolbelt\n",
    "\n",
    "from requests_toolbelt.multipart import decoder\n",
    "\n",
    "headers = {'Content-type': 'application/x-www-form-urlencoded'}\n",
    "payload = {'xquery': '1+1'}\n",
    "testEnrollResponse = requests.post(\"http://localhost:8002/v1/eval\", headers=headers, data=payload, auth=HTTPDigestAuth('admin', getpass()))\n",
    "multipart_data = decoder.MultipartDecoder.from_response(testEnrollResponse)\n",
    "\n",
    "for part in multipart_data.parts:\n",
    "    print(part.text)  # Alternatively, part.text if you want unicode\n",
    "# TO debug: print(part.headers)"
   ]
  },
  {
   "cell_type": "code",
   "execution_count": null,
   "metadata": {},
   "outputs": [],
   "source": []
  }
 ],
 "metadata": {
  "kernelspec": {
   "display_name": "Python 3",
   "language": "python",
   "name": "python3"
  },
  "language_info": {
   "codemirror_mode": {
    "name": "ipython",
    "version": 3
   },
   "file_extension": ".py",
   "mimetype": "text/x-python",
   "name": "python",
   "nbconvert_exporter": "python",
   "pygments_lexer": "ipython3",
   "version": "3.7.3"
  }
 },
 "nbformat": 4,
 "nbformat_minor": 2
}
